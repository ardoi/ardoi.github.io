{
 "metadata": {
  "name": "",
  "signature": "sha256:cf2252df6b6e95dad1e944141fefa2d2dfc8a2a7b541db29f009270ac14caca9"
 },
 "nbformat": 3,
 "nbformat_minor": 0,
 "worksheets": [
  {
   "cells": [
    {
     "cell_type": "heading",
     "level": 1,
     "metadata": {},
     "source": [
      "Timing function calls in Python"
     ]
    },
    {
     "cell_type": "code",
     "collapsed": false,
     "input": [
      "import time\n",
      "\n",
      "def time_it(f):\n",
      "    time_it.active = 0\n",
      "\n",
      "    def tt(*args, **kwargs):\n",
      "        time_it.active += 1\n",
      "        t0 = time.time()\n",
      "        tabs = '\\t'*(time_it.active - 1)+'>'\n",
      "        name = f.__name__\n",
      "        print('{tabs} Executing {name}'.format(tabs=tabs, name=name))\n",
      "        res = f(*args, **kwargs)\n",
      "        print('{tabs} Function {name} execution time: {time:.3f} seconds'.format(\n",
      "            tabs=tabs, name=name, time=time.time() - t0))\n",
      "        time_it.active -= 1\n",
      "        return res\n",
      "    return tt\n"
     ],
     "language": "python",
     "metadata": {},
     "outputs": [],
     "prompt_number": 64
    },
    {
     "cell_type": "code",
     "collapsed": false,
     "input": [
      "import time\n",
      "import scipy.ndimage as nd\n",
      "import numpy as n\n",
      "\n",
      "@time_it\n",
      "def do_all(data, blurs):\n",
      "    for blur in blurs:\n",
      "        process(data, blur)\n",
      "        \n",
      "@time_it\n",
      "def process(data, amount):\n",
      "    blurred = nd.gaussian_filter(data, amount)\n",
      "    out = get_stats(blurred)\n",
      "    return out\n",
      "\n",
      "@time_it\n",
      "def get_stats(c):\n",
      "    return c.mean(), c.std()"
     ],
     "language": "python",
     "metadata": {},
     "outputs": [],
     "prompt_number": 65
    },
    {
     "cell_type": "code",
     "collapsed": false,
     "input": [
      "data = n.random.randn(5000,5000)\n",
      "blurs = n.arange(0,40,10)"
     ],
     "language": "python",
     "metadata": {},
     "outputs": [],
     "prompt_number": 10
    },
    {
     "cell_type": "code",
     "collapsed": false,
     "input": [
      "do_all(data, blurs)"
     ],
     "language": "python",
     "metadata": {},
     "outputs": [
      {
       "output_type": "stream",
       "stream": "stdout",
       "text": [
        "> Executing do_all\n",
        "\t> Executing process\n",
        "\t\t> Executing get_stats"
       ]
      },
      {
       "output_type": "stream",
       "stream": "stdout",
       "text": [
        "\n",
        "\t\t> Function get_stats execution time: 0.302 seconds"
       ]
      },
      {
       "output_type": "stream",
       "stream": "stdout",
       "text": [
        "\n",
        "\t> Function process execution time: 0.451 seconds\n",
        "\t> Executing process\n",
        "\t\t> Executing get_stats"
       ]
      },
      {
       "output_type": "stream",
       "stream": "stdout",
       "text": [
        "\n",
        "\t\t> Function get_stats execution time: 0.256 seconds"
       ]
      },
      {
       "output_type": "stream",
       "stream": "stdout",
       "text": [
        "\n",
        "\t> Function process execution time: 3.132 seconds\n",
        "\t> Executing process\n",
        "\t\t> Executing get_stats"
       ]
      },
      {
       "output_type": "stream",
       "stream": "stdout",
       "text": [
        "\n",
        "\t\t> Function get_stats execution time: 0.228 seconds"
       ]
      },
      {
       "output_type": "stream",
       "stream": "stdout",
       "text": [
        "\n",
        "\t> Function process execution time: 4.903 seconds\n",
        "\t> Executing process\n",
        "\t\t> Executing get_stats"
       ]
      },
      {
       "output_type": "stream",
       "stream": "stdout",
       "text": [
        "\n",
        "\t\t> Function get_stats execution time: 0.209 seconds"
       ]
      },
      {
       "output_type": "stream",
       "stream": "stdout",
       "text": [
        "\n",
        "\t> Function process execution time: 6.779 seconds\n",
        "> Function do_all execution time: 15.266 seconds\n"
       ]
      }
     ],
     "prompt_number": 66
    }
   ],
   "metadata": {}
  }
 ]
}