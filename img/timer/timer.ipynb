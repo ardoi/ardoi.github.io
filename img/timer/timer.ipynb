{
 "metadata": {
  "name": "",
  "signature": "sha256:234d451f078ff43006bd49a6ae7b44f845d6543121a56592c7bb358ab3752e49"
 },
 "nbformat": 3,
 "nbformat_minor": 0,
 "worksheets": [
  {
   "cells": [
    {
     "cell_type": "code",
     "collapsed": false,
     "input": [
      "import time\n",
      "\n",
      "def time_it(f):\n",
      "    time_it.active = 0\n",
      "\n",
      "    def tt(*args, **kwargs):\n",
      "        time_it.active += 1\n",
      "        t0 = time.time()\n",
      "        tabs = '\\t'*(time_it.active - 1)+'>'\n",
      "        name = f.__name__\n",
      "        print('{tabs} Executing {name}'.format(tabs=tabs, name=name))\n",
      "        res = f(*args, **kwargs)\n",
      "        print('{tabs} Function {name} execution time: {time:.3f} seconds'.format(\n",
      "            tabs=tabs, name=name, time=time.time() - t0))\n",
      "        time_it.active -= 1\n",
      "        return res\n",
      "    return tt\n"
     ],
     "language": "python",
     "metadata": {},
     "outputs": [],
     "prompt_number": 64
    },
    {
     "cell_type": "code",
     "collapsed": false,
     "input": [
      "import time\n",
      "import scipy.ndimage as nd\n",
      "import numpy as n\n",
      "\n",
      "@time_it\n",
      "def do_all(data, blurs):\n",
      "    for blur in blurs:\n",
      "        process(data, blur)\n",
      "        \n",
      "@time_it\n",
      "def process(data, amount):\n",
      "    blurred = nd.gaussian_filter(data, amount)\n",
      "    out = get_stats(blurred)\n",
      "    return out\n",
      "\n",
      "@time_it\n",
      "def get_stats(c):\n",
      "    return c.mean(), c.std()"
     ],
     "language": "python",
     "metadata": {},
     "outputs": [],
     "prompt_number": 65
    },
    {
     "cell_type": "code",
     "collapsed": false,
     "input": [
      "data = n.random.randn(5000,5000)\n",
      "blurs = n.arange(0,40,10)"
     ],
     "language": "python",
     "metadata": {},
     "outputs": [],
     "prompt_number": 10
    },
    {
     "cell_type": "code",
     "collapsed": false,
     "input": [
      "do_all(data, blurs)"
     ],
     "language": "python",
     "metadata": {},
     "outputs": [
      {
       "output_type": "stream",
       "stream": "stdout",
       "text": [
        "> Executing do_all\n",
        "\t> Executing process\n",
        "\t\t> Executing get_stats"
       ]
      },
      {
       "output_type": "stream",
       "stream": "stdout",
       "text": [
        "\n",
        "\t\t> Function get_stats execution time: 0.302 seconds"
       ]
      },
      {
       "output_type": "stream",
       "stream": "stdout",
       "text": [
        "\n",
        "\t> Function process execution time: 0.451 seconds\n",
        "\t> Executing process\n",
        "\t\t> Executing get_stats"
       ]
      },
      {
       "output_type": "stream",
       "stream": "stdout",
       "text": [
        "\n",
        "\t\t> Function get_stats execution time: 0.256 seconds"
       ]
      },
      {
       "output_type": "stream",
       "stream": "stdout",
       "text": [
        "\n",
        "\t> Function process execution time: 3.132 seconds\n",
        "\t> Executing process\n",
        "\t\t> Executing get_stats"
       ]
      },
      {
       "output_type": "stream",
       "stream": "stdout",
       "text": [
        "\n",
        "\t\t> Function get_stats execution time: 0.228 seconds"
       ]
      },
      {
       "output_type": "stream",
       "stream": "stdout",
       "text": [
        "\n",
        "\t> Function process execution time: 4.903 seconds\n",
        "\t> Executing process\n",
        "\t\t> Executing get_stats"
       ]
      },
      {
       "output_type": "stream",
       "stream": "stdout",
       "text": [
        "\n",
        "\t\t> Function get_stats execution time: 0.209 seconds"
       ]
      },
      {
       "output_type": "stream",
       "stream": "stdout",
       "text": [
        "\n",
        "\t> Function process execution time: 6.779 seconds\n",
        "> Function do_all execution time: 15.266 seconds\n"
       ]
      }
     ],
     "prompt_number": 66
    },
    {
     "cell_type": "code",
     "collapsed": false,
     "input": [
      "\"{0:\\t>5.2f}\".format(2,tabs=4)"
     ],
     "language": "python",
     "metadata": {},
     "outputs": [
      {
       "metadata": {},
       "output_type": "pyout",
       "prompt_number": 54,
       "text": [
        "'\\t2.00'"
       ]
      }
     ],
     "prompt_number": 54
    },
    {
     "cell_type": "code",
     "collapsed": false,
     "input": [],
     "language": "python",
     "metadata": {},
     "outputs": []
    }
   ],
   "metadata": {}
  }
 ]
}