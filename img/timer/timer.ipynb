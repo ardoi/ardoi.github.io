{
 "metadata": {
  "name": "",
  "signature": "sha256:302e418300494e8666569799585cf119adf16fc06fa5c343edf6fc4143d87c0c"
 },
 "nbformat": 3,
 "nbformat_minor": 0,
 "worksheets": [
  {
   "cells": [
    {
     "cell_type": "code",
     "collapsed": false,
     "input": [
      "import time\n",
      "import pprint\n",
      "\n",
      "def time_it(f):\n",
      "    time_it.active = 0\n",
      "\n",
      "    def tt(*args, **kwargs):\n",
      "        time_it.active += 1\n",
      "        t0 = time.time()\n",
      "        print '\\n>>>%s Executing \"%s\"' % ('\\t'*(time_it.active-1)+'#', f.__name__)\n",
      "        res = f(*args, **kwargs)\n",
      "        print '>>>%s Function \"%s\" execution time: %.3f seconds\\n' %\\\n",
      "            ('\\t'*(time_it.active-1)+'#', f.__name__, time.time()-t0)\n",
      "        time_it.active -= 1\n",
      "        return res\n",
      "    return tt\n",
      "\n",
      "\n",
      "def time_it_verbose(f):\n",
      "    time_it.active = 0\n",
      "\n",
      "    def tt(*args, **kwargs):\n",
      "        time_it.active += 1\n",
      "        t0 = time.time()\n",
      "        print '\\n>>>%s Executing \"%s\"' % ('\\t'*(time_it.active-1)+'#', f.__name__)\n",
      "        if args:\n",
      "            print '\\n>>>%s Arguments %s' % ('\\t'*(time_it.active-1)+'#', str(args))\n",
      "        if kwargs:\n",
      "            print '\\n>>>%s KW arguments %s' % ('\\t'*(time_it.active-1)+'#', str(kwargs))\n",
      "        res = f(*args, **kwargs)\n",
      "        print '>>>%s Function \"%s\" returned: %s\\n' %\\\n",
      "            ('\\t'*(time_it.active-1)+'#', f.__name__, res)\n",
      "        print '>>>%s Function \"%s\" execution time: %.3f seconds\\n' %\\\n",
      "            ('\\t'*(time_it.active-1)+'#', f.__name__, time.time()-t0)\n",
      "        time_it.active -= 1\n",
      "        return res\n",
      "    return tt"
     ],
     "language": "python",
     "metadata": {},
     "outputs": []
    },
    {
     "cell_type": "code",
     "collapsed": false,
     "input": [
      "import time\n",
      "import scipy.ndimage as nd\n",
      "import numpy as n\n",
      "\n",
      "@time_it\n",
      "def do_all(data, blurs):\n",
      "    for blur in blurs:\n",
      "        process(data, blur)\n",
      "        \n",
      "@time_it\n",
      "def process(data, amount):\n",
      "    blurred = nd.gaussian_filter(data, amount)\n",
      "    out = get_stats(blurred)\n",
      "    return out\n",
      "\n",
      "@time_it_verbose\n",
      "def get_stats(c):\n",
      "    return c.mean(), c.std()"
     ],
     "language": "python",
     "metadata": {},
     "outputs": []
    },
    {
     "cell_type": "code",
     "collapsed": false,
     "input": [
      "data = n.random.randn(1000,1000)\n",
      "blurs = n.arange(0,40,10)"
     ],
     "language": "python",
     "metadata": {},
     "outputs": []
    },
    {
     "cell_type": "code",
     "collapsed": false,
     "input": [
      "do_all(data, blurs)"
     ],
     "language": "python",
     "metadata": {},
     "outputs": []
    },
    {
     "cell_type": "code",
     "collapsed": false,
     "input": [
      "pprint.saferepr(data)"
     ],
     "language": "python",
     "metadata": {},
     "outputs": []
    },
    {
     "cell_type": "code",
     "collapsed": false,
     "input": [
      "data"
     ],
     "language": "python",
     "metadata": {},
     "outputs": []
    },
    {
     "cell_type": "code",
     "collapsed": false,
     "input": [
      "n.print_function"
     ],
     "language": "python",
     "metadata": {},
     "outputs": []
    },
    {
     "cell_type": "code",
     "collapsed": false,
     "input": [],
     "language": "python",
     "metadata": {},
     "outputs": []
    }
   ],
   "metadata": {}
  }
 ]
}